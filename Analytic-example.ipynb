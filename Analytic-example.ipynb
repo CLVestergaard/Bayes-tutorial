{
 "cells": [
  {
   "cell_type": "code",
   "execution_count": null,
   "id": "01a0affb",
   "metadata": {},
   "outputs": [],
   "source": [
    "import numpy as np\n",
    "import pandas as pd\n",
    "import matplotlib.pyplot as plt\n",
    "import seaborn as sns"
   ]
  },
  {
   "cell_type": "markdown",
   "id": "d32f818d",
   "metadata": {},
   "source": [
    "Define prior probabilities:"
   ]
  },
  {
   "cell_type": "code",
   "execution_count": null,
   "id": "36e1c5d1",
   "metadata": {},
   "outputs": [],
   "source": [
    "hypos = 'bucket a', 'bucket b'\n",
    "probs= 1/2., 1/2.\n",
    "\n",
    "prior = pd.Series(probs, hypos)\n",
    "print(prior)"
   ]
  },
  {
   "cell_type": "markdown",
   "id": "39329b0a",
   "metadata": {},
   "source": [
    "### Define likelihood:\n",
    "\n",
    "A blue ball was drawn, which has probability of 3/4 if it was drawn from bucket A and 1/2 from bucket B"
   ]
  },
  {
   "cell_type": "code",
   "execution_count": null,
   "id": "ea074a18",
   "metadata": {},
   "outputs": [],
   "source": [
    "likelihood = 3/4., 1/2."
   ]
  },
  {
   "cell_type": "markdown",
   "id": "05fc6135",
   "metadata": {},
   "source": [
    "Calculate unnormalized posterior:"
   ]
  },
  {
   "cell_type": "code",
   "execution_count": null,
   "id": "b65f91df",
   "metadata": {},
   "outputs": [],
   "source": [
    "unnorm = prior * likelihood\n",
    "print(unnorm)"
   ]
  },
  {
   "cell_type": "markdown",
   "id": "92ab9dcf",
   "metadata": {},
   "source": [
    "Calculate normalization constant:"
   ]
  },
  {
   "cell_type": "code",
   "execution_count": null,
   "id": "98c34505",
   "metadata": {},
   "outputs": [],
   "source": [
    "prob_data = unnorm.sum()\n",
    "print(prob_data)"
   ]
  },
  {
   "cell_type": "markdown",
   "id": "8e64e0b1",
   "metadata": {},
   "source": [
    "Calculate posterior:"
   ]
  },
  {
   "cell_type": "code",
   "execution_count": null,
   "id": "f2a8537c",
   "metadata": {},
   "outputs": [],
   "source": [
    "posterior = unnorm / prob_data\n",
    "print(posterior)"
   ]
  },
  {
   "cell_type": "markdown",
   "id": "ccddcd98",
   "metadata": {},
   "source": [
    "### Update posterior after drawing a second ball\n",
    "This time a yellow ball.\n"
   ]
  },
  {
   "cell_type": "code",
   "execution_count": null,
   "id": "9cda134a",
   "metadata": {},
   "outputs": [],
   "source": [
    "prior = posterior\n",
    "print(prior)"
   ]
  },
  {
   "cell_type": "markdown",
   "id": "9fb5b38d",
   "metadata": {},
   "source": [
    "Likelihood for yellow ball:"
   ]
  },
  {
   "cell_type": "code",
   "execution_count": null,
   "id": "ad1c1f92",
   "metadata": {},
   "outputs": [],
   "source": [
    "likelihood = 1/4, 1/2"
   ]
  },
  {
   "cell_type": "markdown",
   "id": "fefe9181",
   "metadata": {},
   "source": [
    "Calculate posterior:"
   ]
  },
  {
   "cell_type": "code",
   "execution_count": null,
   "id": "2a85701e",
   "metadata": {},
   "outputs": [],
   "source": [
    "unnorm = prior * likelihood\n",
    "prob_data = unnorm.sum()\n",
    "posterior = unnorm / prob_data\n",
    "\n",
    "print(posterior)"
   ]
  },
  {
   "cell_type": "code",
   "execution_count": null,
   "id": "a0d7d581",
   "metadata": {},
   "outputs": [],
   "source": []
  }
 ],
 "metadata": {
  "kernelspec": {
   "display_name": "Python 3 (ipykernel)",
   "language": "python",
   "name": "python3"
  },
  "language_info": {
   "codemirror_mode": {
    "name": "ipython",
    "version": 3
   },
   "file_extension": ".py",
   "mimetype": "text/x-python",
   "name": "python",
   "nbconvert_exporter": "python",
   "pygments_lexer": "ipython3",
   "version": "3.10.6"
  }
 },
 "nbformat": 4,
 "nbformat_minor": 5
}
