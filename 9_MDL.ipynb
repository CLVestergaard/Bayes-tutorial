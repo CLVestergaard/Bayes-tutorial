{
 "cells": [
  {
   "cell_type": "code",
   "execution_count": 4,
   "metadata": {},
   "outputs": [],
   "source": [
    "import networkx as nx\n",
    "import numpy as np\n",
    "import scipy as sp\n",
    "import community\n",
    "import matplotlib.pyplot as plt\n"
   ]
  },
  {
   "cell_type": "markdown",
   "metadata": {},
   "source": [
    "# Likelihoods of Erdős-Rényi and configuration models for a random network"
   ]
  },
  {
   "cell_type": "code",
   "execution_count": 107,
   "metadata": {},
   "outputs": [],
   "source": [
    "def log2_factorial(n):\n",
    "    return sp.special.loggamma(n+1)/np.log(2.)\n",
    "\n",
    "def log2_double_factorial(n):\n",
    "    if n % 2 == 0:\n",
    "        k = n/2\n",
    "        return k + log2_factorial(k)\n",
    "    else:\n",
    "        k = (n+1)/2\n",
    "        return (log2_factorial(2.*k - 1.) - log2_factorial(k - 1.)) - k + 1 \n",
    "\n",
    "def entropy_simple_ER(G):    \n",
    "    N = G.number_of_nodes()\n",
    "    E = G.number_of_edges()\n",
    "    \n",
    "    return log2_factorial( N*(N-1)/2. ) - log2_factorial(E) - log2_factorial( N*(N-1)/2. - E )\n",
    "\n",
    "def entropy_CM(G):\n",
    "    N = G.number_of_nodes()\n",
    "    E = G.number_of_edges()\n",
    "    degrees = [d for n, d in G.degree()]\n",
    "    A = nx.to_numpy_array(G_i)\n",
    "    \n",
    "    return log2_factorial(2*E) - log2_double_factorial(2*E) - np.sum([log2_factorial(d) for d in degrees]) - np.sum(log2_factorial(A))/2.\n"
   ]
  },
  {
   "cell_type": "code",
   "execution_count": 108,
   "metadata": {},
   "outputs": [],
   "source": [
    "N = 200\n",
    "p = 0.1\n",
    "E = N*(N-1)*p/2\n",
    "M = 200\n",
    "\n",
    "l_ER = []\n",
    "l_CM = []\n",
    "differences = []\n",
    "\n",
    "for m in range(M):\n",
    "    G_i = nx.gnm_random_graph(N,E)\n",
    "    l_ER.append(-entropy_simple_ER(G_i))\n",
    "    l_CM.append(-entropy_CM(G_i))\n",
    "    differences.append(entropy_simple_ER(G_i)-entropy_CM(G_i))\n",
    "    \n",
    "    "
   ]
  },
  {
   "cell_type": "code",
   "execution_count": 109,
   "metadata": {},
   "outputs": [
    {
     "data": {
      "text/plain": [
       "Text(0, 0.5, 'count')"
      ]
     },
     "execution_count": 109,
     "metadata": {},
     "output_type": "execute_result"
    },
    {
     "data": {
      "image/png": "[encoded data removed]",
      "text/plain": [
       "<Figure size 400x350 with 1 Axes>"
      ]
     },
     "metadata": {},
     "output_type": "display_data"
    }
   ],
   "source": [
    "fig, ax = plt.subplots(1,1,figsize=(4,3.5),dpi=100)\n",
    "\n",
    "ax.hist(np.array(differences))\n",
    "ax.set_xlabel(r'$\\log p_{ER}(G|N,E) - \\log p_{CM}(G|\\mathbf{k})$ (bits)')\n",
    "ax.set_ylabel('count')"
   ]
  },
  {
   "cell_type": "markdown",
   "metadata": {},
   "source": [
    "# Codelengths of Erdős-Rényi and configuration models for a random network"
   ]
  },
  {
   "cell_type": "code",
   "execution_count": 114,
   "metadata": {},
   "outputs": [],
   "source": [
    "def L_N(n):\n",
    "    return np.log2( n*(n+1) )\n",
    "\n",
    "def complexity_ER(G):\n",
    "    N = G.number_of_nodes()\n",
    "    E = G.number_of_edges()\n",
    "    \n",
    "    return L_N(N) + L_N(E)\n",
    "\n",
    "def complexity_CM(G):\n",
    "    N = G.number_of_nodes()\n",
    "    E = G.number_of_edges()\n",
    "    degrees = [d for n, d in G.degree()]\n",
    "    delta = np.min(degrees)\n",
    "    Delta = np.max(degrees)\n",
    "    \n",
    "    return L_N(N) + L_N(delta)  + L_N(Delta) + N*np.log2(Delta - delta + 1)\n",
    "\n",
    "def codelength_simple_ER(G):\n",
    "    return entropy_simple_ER(G_i) + complexity_ER(G_i)\n",
    "\n",
    "def codelength_CM(G):\n",
    "    return entropy_CM(G_i) + complexity_CM(G_i)\n"
   ]
  },
  {
   "cell_type": "code",
   "execution_count": 115,
   "metadata": {},
   "outputs": [
    {
     "name": "stdout",
     "output_type": "stream",
     "text": [
      "codelengths: ER: 9363.49596656749 CM: 9622.424998802187\n",
      "Codelength difference -258.92903223469693\n"
     ]
    }
   ],
   "source": [
    "N = 200\n",
    "p = 0.1\n",
    "E = N*(N-1)*p/2\n",
    "   \n",
    "G_i = nx.gnm_random_graph(N,E)\n",
    "\n",
    "L_sER = codelength_simple_ER(G_i)\n",
    "L_CM = codelength_CM(G_i)\n",
    "\n",
    "print('codelengths: ER:', L_sER , 'CM:', L_CM)\n",
    "\n",
    "print ('Codelength difference', L_sER - L_CM)"
   ]
  },
  {
   "cell_type": "code",
   "execution_count": 112,
   "metadata": {},
   "outputs": [],
   "source": [
    "N = 200\n",
    "p = 0.1\n",
    "E = N*(N-1)*p/2\n",
    "M = 200\n",
    "\n",
    "L_sER = []\n",
    "L_CM = []\n",
    "differences = []\n",
    "\n",
    "for m in range(M):\n",
    "    G_i = nx.gnm_random_graph(N,E)\n",
    "    L_sER.append(codelength_simple_ER(G_i))\n",
    "    L_CM.append(codelength_CM(G_i))    "
   ]
  },
  {
   "cell_type": "code",
   "execution_count": 113,
   "metadata": {},
   "outputs": [
    {
     "data": {
      "text/plain": [
       "Text(0, 0.5, 'count')"
      ]
     },
     "execution_count": 113,
     "metadata": {},
     "output_type": "execute_result"
    },
    {
     "data": {
      "image/png": "[encoded data removed]",
      "text/plain": [
       "<Figure size 400x350 with 1 Axes>"
      ]
     },
     "metadata": {},
     "output_type": "display_data"
    }
   ],
   "source": [
    "fig, ax = plt.subplots(1,1,figsize=(4,3.5),dpi=100)\n",
    "\n",
    "ax.hist(np.array(L_ER) - np.array(L_CM))\n",
    "ax.set_xlabel(r'$L_{ER}(G) - L_{CM}(G)$ (bits)')\n",
    "ax.set_ylabel('count')"
   ]
  },
  {
   "cell_type": "code",
   "execution_count": null,
   "metadata": {},
   "outputs": [],
   "source": []
  },
  {
   "cell_type": "code",
   "execution_count": null,
   "metadata": {},
   "outputs": [],
   "source": []
  }
 ],
 "metadata": {
  "kernelspec": {
   "display_name": "networkinf",
   "language": "python",
   "name": "python3"
  },
  "language_info": {
   "codemirror_mode": {
    "name": "ipython",
    "version": 3
   },
   "file_extension": ".py",
   "mimetype": "text/x-python",
   "name": "python",
   "nbconvert_exporter": "python",
   "pygments_lexer": "ipython3",
   "version": "3.12.8"
  }
 },
 "nbformat": 4,
 "nbformat_minor": 2
}
